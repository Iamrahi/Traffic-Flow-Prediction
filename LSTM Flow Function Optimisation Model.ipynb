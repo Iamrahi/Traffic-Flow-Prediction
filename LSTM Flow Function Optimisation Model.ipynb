{
 "cells": [
  {
   "cell_type": "code",
   "execution_count": 3,
   "metadata": {},
   "outputs": [
    {
     "name": "stderr",
     "output_type": "stream",
     "text": [
      "C:\\ProgramData\\Anaconda3\\lib\\site-packages\\h5py\\__init__.py:36: FutureWarning: Conversion of the second argument of issubdtype from `float` to `np.floating` is deprecated. In future, it will be treated as `np.float64 == np.dtype(float).type`.\n",
      "  from ._conv import register_converters as _register_converters\n",
      "Using TensorFlow backend.\n",
      "C:\\ProgramData\\Anaconda3\\lib\\site-packages\\sklearn\\cross_validation.py:44: DeprecationWarning: This module was deprecated in version 0.18 in favor of the model_selection module into which all the refactored classes and functions are moved. Also note that the interface of the new CV iterators are different from that of this module. This module will be removed in 0.20.\n",
      "  \"This module will be removed in 0.20.\", DeprecationWarning)\n"
     ]
    }
   ],
   "source": [
    "import pandas as pd\n",
    "import numpy as np\n",
    "import os\n",
    "from sklearn import preprocessing\n",
    "import seaborn as sns\n",
    "from PIL import Image\n",
    "from IPython.display import Image\n",
    "from keras.models import Sequential\n",
    "from keras.layers import Dense,LSTM,GRU,SimpleRNN,Activation\n",
    "from sklearn.metrics import mean_squared_error\n",
    "import livelossplot\n",
    "from keras_sequential_ascii import keras2ascii\n",
    "from sklearn.cross_validation import train_test_split\n",
    "from keras import optimizers,metrics\n",
    "import pickle\n",
    "from pandas import concat\n",
    "from keras import losses\n",
    "from keras import backend\n",
    "import matplotlib.pyplot as plt\n",
    "from keras.callbacks import History \n",
    "from sklearn.preprocessing import MinMaxScaler\n",
    "import seaborn as sns\n",
    "import matplotlib.pyplot as plt\n",
    "\n",
    "\n",
    "\n",
    "%matplotlib inline\n"
   ]
  },
  {
   "cell_type": "markdown",
   "metadata": {},
   "source": [
    "#Loading Data"
   ]
  },
  {
   "cell_type": "code",
   "execution_count": 4,
   "metadata": {},
   "outputs": [],
   "source": [
    "path=r\"I:\\personal\\Laptop G\\G laptop folder\\My Projects\\Jupyter\\PhD Implemntation\\Final Pre-processed Data\"\n",
    "os.chdir(path)"
   ]
  },
  {
   "cell_type": "code",
   "execution_count": 5,
   "metadata": {},
   "outputs": [
    {
     "name": "stdout",
     "output_type": "stream",
     "text": [
      "I:\\personal\\Laptop G\\G laptop folder\\My Projects\\Jupyter\\PhD Implemntation\\Final Pre-processed Data\n"
     ]
    }
   ],
   "source": [
    "print(os.getcwd())"
   ]
  },
  {
   "cell_type": "code",
   "execution_count": null,
   "metadata": {
    "collapsed": true
   },
   "outputs": [],
   "source": [
    "with open('filtered_data(L1in,L2out,L3out).pickle', 'rb') as handle1:\n",
    "    b = pickle.load(handle1)"
   ]
  },
  {
   "cell_type": "markdown",
   "metadata": {},
   "source": [
    "#sorting the data for LSTM\n",
    "#converting the time series to a sequential supervised elarning problem"
   ]
  },
  {
   "cell_type": "code",
   "execution_count": null,
   "metadata": {
    "collapsed": true
   },
   "outputs": [],
   "source": [
    "def sequence_to_supervised(data,lag=1):\n",
    "    #already in dataframe so no need to convert it\n",
    "    df=pd.DataFrame(data)\n",
    "    columns=[df.shift(i) for i in range(1, lag+1)]\n",
    "    columns.append(df)\n",
    "    df= concat(columns,axis=1)\n",
    "    df.fillna(0,inplace=True)\n",
    "    return df"
   ]
  },
  {
   "cell_type": "markdown",
   "metadata": {},
   "source": [
    "#Final Scaling the data to Min Max in range (0,1)\n",
    "#Althoug the data is already normalised"
   ]
  },
  {
   "cell_type": "code",
   "execution_count": null,
   "metadata": {
    "collapsed": true
   },
   "outputs": [],
   "source": [
    "\n",
    "def MinMaxScaleFunc(data):\n",
    "    scaler = MinMaxScaler(feature_range=(0, 1))\n",
    "    scaled = scaler.fit_transform(data)\n",
    "    return scaled"
   ]
  },
  {
   "cell_type": "markdown",
   "metadata": {},
   "source": [
    "# LSTM "
   ]
  },
  {
   "cell_type": "markdown",
   "metadata": {},
   "source": [
    "#defining the model and training"
   ]
  },
  {
   "cell_type": "code",
   "execution_count": null,
   "metadata": {
    "collapsed": true
   },
   "outputs": [],
   "source": [
    "#decalring variable for callbacks to store trained metrics\n",
    "history = History()"
   ]
  },
  {
   "cell_type": "code",
   "execution_count": null,
   "metadata": {
    "collapsed": true
   },
   "outputs": [],
   "source": [
    "# defing the learning rate and the keras plot library to visulise metrics\n",
    "sgd = optimizers.SGD(lr=0.01, decay=1e-6, momentum=0.7, nesterov=False)\n",
    "plot_losses = livelossplot.PlotLossesKeras()"
   ]
  },
  {
   "cell_type": "markdown",
   "metadata": {},
   "source": [
    "#A common error meaaure to be considered for model with \n",
    "#different parameters"
   ]
  },
  {
   "cell_type": "code",
   "execution_count": null,
   "metadata": {
    "collapsed": true
   },
   "outputs": [],
   "source": [
    "def rmse(y_true, y_pred):\n",
    "    \n",
    "    #result.append(np.sqrt(np.mean(np.square(y_pred - y_true))))\n",
    "    return backend.sqrt(backend.mean(backend.square(y_pred - y_true), axis=-1)) "
   ]
  },
  {
   "cell_type": "code",
   "execution_count": null,
   "metadata": {
    "collapsed": true
   },
   "outputs": [],
   "source": [
    "def lstm_fit(train, batch_size, nb_epoch, neurons):\n",
    "    \n",
    "    X,y=train[:,0:3],train_data[:,3:6]\n",
    "    X=X.reshape(X.shape[0],1,X.shape[1])\n",
    "    model=Sequential()\n",
    "    model.add(LSTM(35,batch_input_shape=(batch_size,X.shape[1],X.shape[2]),activation='sigmoid',\n",
    "                   return_sequences=True))\n",
    "    model.add(LSTM(15,activation='sigmoid'))\n",
    "    model.add(Dense(3))\n",
    "    model.add(Activation('relu'))\n",
    "    model.compile(loss=metrics.poisson,optimizer='RMSprop', \n",
    "                  metrics=['accuracy',rmse])\n",
    "    #for i in range(nb_epoch):\n",
    "    model.fit(X, y,epochs=nb_epoch, batch_size=1, verbose=0, shuffle=False,\n",
    "              validation_split=0.2,callbacks=[livelossplot.PlotLossesKeras(),history])\n",
    "    #model.reset_states()\n",
    "    return model   \n",
    "\n",
    "    "
   ]
  },
  {
   "cell_type": "markdown",
   "metadata": {},
   "source": [
    "#fitting the model with changing cost functions"
   ]
  },
  {
   "cell_type": "code",
   "execution_count": null,
   "metadata": {},
   "outputs": [],
   "source": [
    "supervised_data=sequence_to_supervised(b,1)\n",
    "######fetching just the values or arrays\n",
    "supervised_data_values=supervised_data.values\n",
    "# manually splitting the data into train and test data as the sequence matters\n",
    "train_data,test_data=supervised_data_values,supervised_data_values[:,0:3]\n",
    "#transforming the data with the scaling function [0,1] ---- MinMax Normalisation\n",
    "train_data=MinMaxScaleFunc(train_data)\n",
    "#created validation sets\n",
    "########################################\n",
    "################ fiting the model##########\n",
    "lstm_fitted_model=lstm_fit(train_data, batch_size=1,nb_epoch=20, neurons=10)"
   ]
  },
  {
   "cell_type": "code",
   "execution_count": null,
   "metadata": {
    "collapsed": true
   },
   "outputs": [],
   "source": [
    "#saving the trained model\n",
    "lstm_fitted_model.save('dummy.h5')"
   ]
  },
  {
   "cell_type": "code",
   "execution_count": null,
   "metadata": {},
   "outputs": [],
   "source": [
    "# predicitng for some test values from original dataset\n",
    "test_data=supervised_data_values[:,0:3]\n",
    "test_data=test_data.reshape(test_data.shape[0],1,test_data.shape[1])\n",
    "lstm_fitted_model.predict(test_data,batch_size=1)[3251]\n"
   ]
  },
  {
   "cell_type": "code",
   "execution_count": null,
   "metadata": {},
   "outputs": [],
   "source": [
    "test_data[3251]"
   ]
  },
  {
   "cell_type": "code",
   "execution_count": null,
   "metadata": {
    "collapsed": true
   },
   "outputs": [],
   "source": [
    "#getting model history values\n",
    "a=history.history"
   ]
  },
  {
   "cell_type": "markdown",
   "metadata": {},
   "source": [
    "#storing the results everytime into series->dataframe->excel"
   ]
  },
  {
   "cell_type": "code",
   "execution_count": null,
   "metadata": {
    "collapsed": true
   },
   "outputs": [],
   "source": [
    "\n",
    "# getting per epoch trained model history values\n",
    "for i in history.history.keys():\n",
    "    a[i]=np.mean(a[i],axis=0)\n",
    "\n",
    "\n"
   ]
  },
  {
   "cell_type": "code",
   "execution_count": null,
   "metadata": {
    "collapsed": true
   },
   "outputs": [],
   "source": [
    "#converting a list to series\n",
    "z = pd.Series(a,name='Poisson')"
   ]
  },
  {
   "cell_type": "code",
   "execution_count": null,
   "metadata": {
    "collapsed": true
   },
   "outputs": [],
   "source": [
    "#series frame conversion after taking transpose\n",
    "z= pd.DataFrame(z)"
   ]
  },
  {
   "cell_type": "code",
   "execution_count": null,
   "metadata": {
    "collapsed": true
   },
   "outputs": [],
   "source": [
    "#taking transpose\n",
    "z=z.T"
   ]
  },
  {
   "cell_type": "code",
   "execution_count": null,
   "metadata": {
    "collapsed": true
   },
   "outputs": [],
   "source": [
    "#rearranging the results dataframe columnwise\n",
    "z['Optimiser']=str('RMSprop')\n",
    "z['Epochs']=20\n",
    "z = z.reindex(columns=['loss','acc','rmse','val_rmse','val_loss','val_acc','Optimiser','Epochs'])\n"
   ]
  },
  {
   "cell_type": "code",
   "execution_count": null,
   "metadata": {},
   "outputs": [],
   "source": [
    "z"
   ]
  },
  {
   "cell_type": "code",
   "execution_count": null,
   "metadata": {
    "collapsed": true
   },
   "outputs": [],
   "source": [
    "#reading the excel sheet to append results\n",
    "x=pd.read_excel('Results_Objective_Function.xlsx')\n",
    "x=x.append(z)\n"
   ]
  },
  {
   "cell_type": "code",
   "execution_count": null,
   "metadata": {
    "collapsed": true
   },
   "outputs": [],
   "source": [
    "# storing the results in an excel sheet to read\n",
    "# and append again with changed model loss function\n",
    "writer = pd.ExcelWriter('Results_Objective_Function.xlsx')\n",
    "\n",
    "x.to_excel(writer,'Sheet1')\n",
    "writer.save()"
   ]
  },
  {
   "cell_type": "markdown",
   "metadata": {},
   "source": [
    "#Lodaing the Stored file to plot the individual results w.r.t the optimiser used"
   ]
  },
  {
   "cell_type": "code",
   "execution_count": 6,
   "metadata": {},
   "outputs": [],
   "source": [
    "y=pd.read_excel('Results_Objective_Function.xlsx')"
   ]
  },
  {
   "cell_type": "code",
   "execution_count": 23,
   "metadata": {},
   "outputs": [
    {
     "data": {
      "text/html": [
       "<div>\n",
       "<style>\n",
       "    .dataframe thead tr:only-child th {\n",
       "        text-align: right;\n",
       "    }\n",
       "\n",
       "    .dataframe thead th {\n",
       "        text-align: left;\n",
       "    }\n",
       "\n",
       "    .dataframe tbody tr th {\n",
       "        vertical-align: top;\n",
       "    }\n",
       "</style>\n",
       "<table border=\"1\" class=\"dataframe\">\n",
       "  <thead>\n",
       "    <tr style=\"text-align: right;\">\n",
       "      <th></th>\n",
       "      <th>Epochs</th>\n",
       "      <th>Optimiser</th>\n",
       "      <th>acc</th>\n",
       "      <th>loss</th>\n",
       "      <th>rmse</th>\n",
       "      <th>val_acc</th>\n",
       "      <th>val_loss</th>\n",
       "      <th>val_rmse</th>\n",
       "    </tr>\n",
       "  </thead>\n",
       "  <tbody>\n",
       "    <tr>\n",
       "      <th>Mean Square Error</th>\n",
       "      <td>20</td>\n",
       "      <td>Adagrad</td>\n",
       "      <td>0.601250</td>\n",
       "      <td>0.103807</td>\n",
       "      <td>0.237074</td>\n",
       "      <td>0.617896</td>\n",
       "      <td>0.092994</td>\n",
       "      <td>0.221333</td>\n",
       "    </tr>\n",
       "    <tr>\n",
       "      <th>cosine_proximity</th>\n",
       "      <td>20</td>\n",
       "      <td>Adagrad</td>\n",
       "      <td>0.666282</td>\n",
       "      <td>-0.582410</td>\n",
       "      <td>0.528418</td>\n",
       "      <td>0.668203</td>\n",
       "      <td>-0.582629</td>\n",
       "      <td>0.528625</td>\n",
       "    </tr>\n",
       "    <tr>\n",
       "      <th>cosine</th>\n",
       "      <td>20</td>\n",
       "      <td>Adagrad</td>\n",
       "      <td>0.503153</td>\n",
       "      <td>-0.757847</td>\n",
       "      <td>0.530014</td>\n",
       "      <td>0.492320</td>\n",
       "      <td>-0.758672</td>\n",
       "      <td>0.531012</td>\n",
       "    </tr>\n",
       "    <tr>\n",
       "      <th>hinge</th>\n",
       "      <td>20</td>\n",
       "      <td>Adagrad</td>\n",
       "      <td>0.083429</td>\n",
       "      <td>1.000000</td>\n",
       "      <td>0.586202</td>\n",
       "      <td>0.082949</td>\n",
       "      <td>1.000000</td>\n",
       "      <td>0.586609</td>\n",
       "    </tr>\n",
       "    <tr>\n",
       "      <th>kullback_leibler_divergence</th>\n",
       "      <td>20</td>\n",
       "      <td>Adagrad</td>\n",
       "      <td>0.416955</td>\n",
       "      <td>8.252909</td>\n",
       "      <td>0.547067</td>\n",
       "      <td>0.414747</td>\n",
       "      <td>8.258453</td>\n",
       "      <td>0.546726</td>\n",
       "    </tr>\n",
       "    <tr>\n",
       "      <th>logcosh</th>\n",
       "      <td>20</td>\n",
       "      <td>Adagrad</td>\n",
       "      <td>0.250250</td>\n",
       "      <td>0.092281</td>\n",
       "      <td>0.432219</td>\n",
       "      <td>0.248848</td>\n",
       "      <td>0.091879</td>\n",
       "      <td>0.431357</td>\n",
       "    </tr>\n",
       "    <tr>\n",
       "      <th>Mean Absolute Error</th>\n",
       "      <td>20</td>\n",
       "      <td>Adagrad</td>\n",
       "      <td>0.550096</td>\n",
       "      <td>0.303923</td>\n",
       "      <td>0.405613</td>\n",
       "      <td>0.554685</td>\n",
       "      <td>0.302799</td>\n",
       "      <td>0.404928</td>\n",
       "    </tr>\n",
       "    <tr>\n",
       "      <th>Mean Squared Logarithmic Error</th>\n",
       "      <td>20</td>\n",
       "      <td>Adagrad</td>\n",
       "      <td>0.083429</td>\n",
       "      <td>0.174712</td>\n",
       "      <td>0.530878</td>\n",
       "      <td>0.082949</td>\n",
       "      <td>0.174523</td>\n",
       "      <td>0.530492</td>\n",
       "    </tr>\n",
       "    <tr>\n",
       "      <th>Poisson</th>\n",
       "      <td>20</td>\n",
       "      <td>Adagrad</td>\n",
       "      <td>0.245156</td>\n",
       "      <td>3.848531</td>\n",
       "      <td>0.428428</td>\n",
       "      <td>0.244700</td>\n",
       "      <td>3.850987</td>\n",
       "      <td>0.427446</td>\n",
       "    </tr>\n",
       "    <tr>\n",
       "      <th>Mean Square Error</th>\n",
       "      <td>20</td>\n",
       "      <td>Stochastic gradient descent</td>\n",
       "      <td>0.083429</td>\n",
       "      <td>0.333404</td>\n",
       "      <td>0.553405</td>\n",
       "      <td>0.082949</td>\n",
       "      <td>0.332767</td>\n",
       "      <td>0.553319</td>\n",
       "    </tr>\n",
       "    <tr>\n",
       "      <th>cosine_proximity</th>\n",
       "      <td>20</td>\n",
       "      <td>Stochastic gradient descent</td>\n",
       "      <td>0.666282</td>\n",
       "      <td>-0.750488</td>\n",
       "      <td>0.447073</td>\n",
       "      <td>0.668203</td>\n",
       "      <td>-0.751278</td>\n",
       "      <td>0.445828</td>\n",
       "    </tr>\n",
       "    <tr>\n",
       "      <th>cosine</th>\n",
       "      <td>20</td>\n",
       "      <td>Stochastic gradient descent</td>\n",
       "      <td>0.083429</td>\n",
       "      <td>-0.473527</td>\n",
       "      <td>0.548459</td>\n",
       "      <td>0.082949</td>\n",
       "      <td>-0.473968</td>\n",
       "      <td>0.548552</td>\n",
       "    </tr>\n",
       "    <tr>\n",
       "      <th>hinge</th>\n",
       "      <td>20</td>\n",
       "      <td>Stochastic gradient descent</td>\n",
       "      <td>0.100461</td>\n",
       "      <td>0.449889</td>\n",
       "      <td>2.945797</td>\n",
       "      <td>0.099539</td>\n",
       "      <td>0.447266</td>\n",
       "      <td>3.029479</td>\n",
       "    </tr>\n",
       "    <tr>\n",
       "      <th>kullback_leibler_divergence</th>\n",
       "      <td>20</td>\n",
       "      <td>Stochastic gradient descent</td>\n",
       "      <td>0.250288</td>\n",
       "      <td>-0.583081</td>\n",
       "      <td>0.437514</td>\n",
       "      <td>0.248848</td>\n",
       "      <td>-0.584914</td>\n",
       "      <td>0.437194</td>\n",
       "    </tr>\n",
       "    <tr>\n",
       "      <th>logcosh</th>\n",
       "      <td>20</td>\n",
       "      <td>Stochastic gradient descent</td>\n",
       "      <td>0.250288</td>\n",
       "      <td>0.145624</td>\n",
       "      <td>0.539964</td>\n",
       "      <td>0.248848</td>\n",
       "      <td>0.145493</td>\n",
       "      <td>0.540019</td>\n",
       "    </tr>\n",
       "    <tr>\n",
       "      <th>Mean Absolute Error</th>\n",
       "      <td>20</td>\n",
       "      <td>Stochastic gradient descent</td>\n",
       "      <td>0.083429</td>\n",
       "      <td>0.479471</td>\n",
       "      <td>0.559180</td>\n",
       "      <td>0.082949</td>\n",
       "      <td>0.478803</td>\n",
       "      <td>0.560458</td>\n",
       "    </tr>\n",
       "    <tr>\n",
       "      <th>Mean Squared Logarithmic Error</th>\n",
       "      <td>20</td>\n",
       "      <td>Stochastic gradient descent</td>\n",
       "      <td>0.666282</td>\n",
       "      <td>0.111592</td>\n",
       "      <td>0.443403</td>\n",
       "      <td>0.668203</td>\n",
       "      <td>0.111199</td>\n",
       "      <td>0.442615</td>\n",
       "    </tr>\n",
       "    <tr>\n",
       "      <th>Poisson</th>\n",
       "      <td>20</td>\n",
       "      <td>Stochastic gradient descent</td>\n",
       "      <td>0.666282</td>\n",
       "      <td>3.754442</td>\n",
       "      <td>0.444037</td>\n",
       "      <td>0.668203</td>\n",
       "      <td>3.755300</td>\n",
       "      <td>0.443212</td>\n",
       "    </tr>\n",
       "    <tr>\n",
       "      <th>Mean Square Error</th>\n",
       "      <td>20</td>\n",
       "      <td>RMSprop</td>\n",
       "      <td>0.658939</td>\n",
       "      <td>0.180491</td>\n",
       "      <td>0.399666</td>\n",
       "      <td>0.600307</td>\n",
       "      <td>0.175860</td>\n",
       "      <td>0.395046</td>\n",
       "    </tr>\n",
       "    <tr>\n",
       "      <th>cosine_proximity</th>\n",
       "      <td>20</td>\n",
       "      <td>RMSprop</td>\n",
       "      <td>0.711861</td>\n",
       "      <td>-0.758332</td>\n",
       "      <td>0.448345</td>\n",
       "      <td>0.616667</td>\n",
       "      <td>-0.759230</td>\n",
       "      <td>0.447233</td>\n",
       "    </tr>\n",
       "    <tr>\n",
       "      <th>cosine</th>\n",
       "      <td>20</td>\n",
       "      <td>RMSprop</td>\n",
       "      <td>0.250269</td>\n",
       "      <td>-0.739558</td>\n",
       "      <td>0.606394</td>\n",
       "      <td>0.248848</td>\n",
       "      <td>-0.740977</td>\n",
       "      <td>0.608588</td>\n",
       "    </tr>\n",
       "    <tr>\n",
       "      <th>hinge</th>\n",
       "      <td>20</td>\n",
       "      <td>RMSprop</td>\n",
       "      <td>0.203018</td>\n",
       "      <td>0.106111</td>\n",
       "      <td>39.404115</td>\n",
       "      <td>0.207373</td>\n",
       "      <td>0.102439</td>\n",
       "      <td>41.097598</td>\n",
       "    </tr>\n",
       "    <tr>\n",
       "      <th>kullback_leibler_divergence</th>\n",
       "      <td>20</td>\n",
       "      <td>RMSprop</td>\n",
       "      <td>0.271069</td>\n",
       "      <td>8.252961</td>\n",
       "      <td>0.561758</td>\n",
       "      <td>0.269816</td>\n",
       "      <td>8.258453</td>\n",
       "      <td>0.561420</td>\n",
       "    </tr>\n",
       "    <tr>\n",
       "      <th>logcosh</th>\n",
       "      <td>20</td>\n",
       "      <td>RMSprop</td>\n",
       "      <td>0.083429</td>\n",
       "      <td>0.197062</td>\n",
       "      <td>0.586202</td>\n",
       "      <td>0.082949</td>\n",
       "      <td>0.197099</td>\n",
       "      <td>0.586609</td>\n",
       "    </tr>\n",
       "    <tr>\n",
       "      <th>Mean Absolute Error</th>\n",
       "      <td>20</td>\n",
       "      <td>RMSprop</td>\n",
       "      <td>0.642926</td>\n",
       "      <td>0.299923</td>\n",
       "      <td>0.399404</td>\n",
       "      <td>0.609217</td>\n",
       "      <td>0.297649</td>\n",
       "      <td>0.399470</td>\n",
       "    </tr>\n",
       "    <tr>\n",
       "      <th>Mean Squared Logarithmic Error</th>\n",
       "      <td>20</td>\n",
       "      <td>RMSprop</td>\n",
       "      <td>0.249942</td>\n",
       "      <td>0.168879</td>\n",
       "      <td>0.521986</td>\n",
       "      <td>0.248848</td>\n",
       "      <td>0.168432</td>\n",
       "      <td>0.522251</td>\n",
       "    </tr>\n",
       "    <tr>\n",
       "      <th>Poisson</th>\n",
       "      <td>20</td>\n",
       "      <td>RMSprop</td>\n",
       "      <td>0.083449</td>\n",
       "      <td>9.381492</td>\n",
       "      <td>0.586202</td>\n",
       "      <td>0.082949</td>\n",
       "      <td>9.388310</td>\n",
       "      <td>0.586609</td>\n",
       "    </tr>\n",
       "  </tbody>\n",
       "</table>\n",
       "</div>"
      ],
      "text/plain": [
       "                                Epochs                    Optimiser       acc  \\\n",
       "Mean Square Error                   20                      Adagrad  0.601250   \n",
       "cosine_proximity                    20                      Adagrad  0.666282   \n",
       "cosine                              20                      Adagrad  0.503153   \n",
       "hinge                               20                      Adagrad  0.083429   \n",
       "kullback_leibler_divergence         20                      Adagrad  0.416955   \n",
       "logcosh                             20                      Adagrad  0.250250   \n",
       "Mean Absolute Error                 20                      Adagrad  0.550096   \n",
       "Mean Squared Logarithmic Error      20                      Adagrad  0.083429   \n",
       "Poisson                             20                      Adagrad  0.245156   \n",
       "Mean Square Error                   20  Stochastic gradient descent  0.083429   \n",
       "cosine_proximity                    20  Stochastic gradient descent  0.666282   \n",
       "cosine                              20  Stochastic gradient descent  0.083429   \n",
       "hinge                               20  Stochastic gradient descent  0.100461   \n",
       "kullback_leibler_divergence         20  Stochastic gradient descent  0.250288   \n",
       "logcosh                             20  Stochastic gradient descent  0.250288   \n",
       "Mean Absolute Error                 20  Stochastic gradient descent  0.083429   \n",
       "Mean Squared Logarithmic Error      20  Stochastic gradient descent  0.666282   \n",
       "Poisson                             20  Stochastic gradient descent  0.666282   \n",
       "Mean Square Error                   20                      RMSprop  0.658939   \n",
       "cosine_proximity                    20                      RMSprop  0.711861   \n",
       "cosine                              20                      RMSprop  0.250269   \n",
       "hinge                               20                      RMSprop  0.203018   \n",
       "kullback_leibler_divergence         20                      RMSprop  0.271069   \n",
       "logcosh                             20                      RMSprop  0.083429   \n",
       "Mean Absolute Error                 20                      RMSprop  0.642926   \n",
       "Mean Squared Logarithmic Error      20                      RMSprop  0.249942   \n",
       "Poisson                             20                      RMSprop  0.083449   \n",
       "\n",
       "                                    loss       rmse   val_acc  val_loss  \\\n",
       "Mean Square Error               0.103807   0.237074  0.617896  0.092994   \n",
       "cosine_proximity               -0.582410   0.528418  0.668203 -0.582629   \n",
       "cosine                         -0.757847   0.530014  0.492320 -0.758672   \n",
       "hinge                           1.000000   0.586202  0.082949  1.000000   \n",
       "kullback_leibler_divergence     8.252909   0.547067  0.414747  8.258453   \n",
       "logcosh                         0.092281   0.432219  0.248848  0.091879   \n",
       "Mean Absolute Error             0.303923   0.405613  0.554685  0.302799   \n",
       "Mean Squared Logarithmic Error  0.174712   0.530878  0.082949  0.174523   \n",
       "Poisson                         3.848531   0.428428  0.244700  3.850987   \n",
       "Mean Square Error               0.333404   0.553405  0.082949  0.332767   \n",
       "cosine_proximity               -0.750488   0.447073  0.668203 -0.751278   \n",
       "cosine                         -0.473527   0.548459  0.082949 -0.473968   \n",
       "hinge                           0.449889   2.945797  0.099539  0.447266   \n",
       "kullback_leibler_divergence    -0.583081   0.437514  0.248848 -0.584914   \n",
       "logcosh                         0.145624   0.539964  0.248848  0.145493   \n",
       "Mean Absolute Error             0.479471   0.559180  0.082949  0.478803   \n",
       "Mean Squared Logarithmic Error  0.111592   0.443403  0.668203  0.111199   \n",
       "Poisson                         3.754442   0.444037  0.668203  3.755300   \n",
       "Mean Square Error               0.180491   0.399666  0.600307  0.175860   \n",
       "cosine_proximity               -0.758332   0.448345  0.616667 -0.759230   \n",
       "cosine                         -0.739558   0.606394  0.248848 -0.740977   \n",
       "hinge                           0.106111  39.404115  0.207373  0.102439   \n",
       "kullback_leibler_divergence     8.252961   0.561758  0.269816  8.258453   \n",
       "logcosh                         0.197062   0.586202  0.082949  0.197099   \n",
       "Mean Absolute Error             0.299923   0.399404  0.609217  0.297649   \n",
       "Mean Squared Logarithmic Error  0.168879   0.521986  0.248848  0.168432   \n",
       "Poisson                         9.381492   0.586202  0.082949  9.388310   \n",
       "\n",
       "                                 val_rmse  \n",
       "Mean Square Error                0.221333  \n",
       "cosine_proximity                 0.528625  \n",
       "cosine                           0.531012  \n",
       "hinge                            0.586609  \n",
       "kullback_leibler_divergence      0.546726  \n",
       "logcosh                          0.431357  \n",
       "Mean Absolute Error              0.404928  \n",
       "Mean Squared Logarithmic Error   0.530492  \n",
       "Poisson                          0.427446  \n",
       "Mean Square Error                0.553319  \n",
       "cosine_proximity                 0.445828  \n",
       "cosine                           0.548552  \n",
       "hinge                            3.029479  \n",
       "kullback_leibler_divergence      0.437194  \n",
       "logcosh                          0.540019  \n",
       "Mean Absolute Error              0.560458  \n",
       "Mean Squared Logarithmic Error   0.442615  \n",
       "Poisson                          0.443212  \n",
       "Mean Square Error                0.395046  \n",
       "cosine_proximity                 0.447233  \n",
       "cosine                           0.608588  \n",
       "hinge                           41.097598  \n",
       "kullback_leibler_divergence      0.561420  \n",
       "logcosh                          0.586609  \n",
       "Mean Absolute Error              0.399470  \n",
       "Mean Squared Logarithmic Error   0.522251  \n",
       "Poisson                          0.586609  "
      ]
     },
     "execution_count": 23,
     "metadata": {},
     "output_type": "execute_result"
    }
   ],
   "source": [
    "y"
   ]
  },
  {
   "cell_type": "code",
   "execution_count": 53,
   "metadata": {
    "scrolled": false
   },
   "outputs": [
    {
     "data": {
      "image/png": "[encoded data removed]",
      "text/plain": [
       "<matplotlib.figure.Figure at 0x22eaa326b00>"
      ]
     },
     "metadata": {},
     "output_type": "display_data"
    }
   ],
   "source": [
    "# plotting and saving the figure for Adagrad optimiser\n",
    "ax=y[y.Optimiser=='Adagrad'].plot(kind='bar',y=['loss','rmse','acc'],figsize=(10,5),subplots=False,grid=True,legend=True,\n",
    "                              title='Graph showing Adagrad used as optimiser with different loss functions',logy=True)\n",
    "for p in ax.patches:\n",
    "    valy = \"{0:.2f}\".format(round(p.get_height(),2))\n",
    "    valx = \"{0:.2f}\".format(round(p.get_x(),2))\n",
    "    \n",
    "    ax.annotate(str(valy), (float(valx)*1.005 , float(valy) *1.005))\n",
    "plt.xticks(rotation=70)\n",
    "plt.xlabel(' Loss Functions')\n",
    "plt.ylabel('Performance Measure')\n",
    "plt.title('Graph showing Adagrad used as optimiser with  loss functions')\n",
    "plt.savefig('output_pm_adagrad.png')"
   ]
  },
  {
   "cell_type": "code",
   "execution_count": 54,
   "metadata": {},
   "outputs": [
    {
     "data": {
      "image/png": "[encoded data removed]",
      "text/plain": [
       "<matplotlib.figure.Figure at 0x22ea9e03908>"
      ]
     },
     "metadata": {},
     "output_type": "display_data"
    }
   ],
   "source": [
    "# plotting and saving the figure for Adagrad optimiser\n",
    "ax=y[y.Optimiser=='Stochastic gradient descent'].plot(kind='bar',y=['loss','rmse','acc'],figsize=(10,5),subplots=False,grid=True,legend=True,\n",
    "                              title='Graph showing Adagrad used as optimiser with different loss functions',logy=True)\n",
    "for p in ax.patches:\n",
    "    valy = \"{0:.2f}\".format(round(p.get_height(),2))\n",
    "    valx = \"{0:.2f}\".format(round(p.get_x(),2))\n",
    "    \n",
    "    ax.annotate(str(valy), (float(valx)*1.005 , float(valy) *1.005))\n",
    "plt.xticks(rotation=70)\n",
    "plt.xlabel(' Loss Functions')\n",
    "plt.ylabel('Performance Measure')\n",
    "plt.title('Graph showing Stochastic gradient descent used as optimiser with  loss functions')\n",
    "plt.savefig('output_pm_sgd.png')"
   ]
  },
  {
   "cell_type": "code",
   "execution_count": 55,
   "metadata": {},
   "outputs": [
    {
     "data": {
      "image/png": "[encoded data removed]",
      "text/plain": [
       "<matplotlib.figure.Figure at 0x22ea77ffa90>"
      ]
     },
     "metadata": {},
     "output_type": "display_data"
    }
   ],
   "source": [
    "# plotting and saving the figure for Adagrad optimiser\n",
    "ax=y[y.Optimiser=='RMSprop'].plot(kind='bar',y=['loss','rmse','acc'],figsize=(10,5),subplots=False,grid=True,legend=True,\n",
    "                              title='Graph showing Adagrad used as optimiser with different loss functions',logy=True)\n",
    "for p in ax.patches:\n",
    "    valy = \"{0:.2f}\".format(round(p.get_height(),2))\n",
    "    valx = \"{0:.2f}\".format(round(p.get_x(),2))\n",
    "    \n",
    "    ax.annotate(str(valy), (float(valx)*1.005 , float(valy) *1.005))\n",
    "plt.xticks(rotation=70)\n",
    "plt.xlabel(' Loss Functions')\n",
    "plt.ylabel('Performance Measure')\n",
    "plt.title('Graph showing RMSprop used as optimiser with  loss functions')\n",
    "plt.savefig('output_pm_RMSprop.png')"
   ]
  },
  {
   "cell_type": "code",
   "execution_count": null,
   "metadata": {
    "collapsed": true
   },
   "outputs": [],
   "source": []
  }
 ],
 "metadata": {
  "kernelspec": {
   "display_name": "Python 3",
   "language": "python",
   "name": "python3"
  },
  "language_info": {
   "codemirror_mode": {
    "name": "ipython",
    "version": 3
   },
   "file_extension": ".py",
   "mimetype": "text/x-python",
   "name": "python",
   "nbconvert_exporter": "python",
   "pygments_lexer": "ipython3",
   "version": "3.6.1"
  }
 },
 "nbformat": 4,
 "nbformat_minor": 2
}
